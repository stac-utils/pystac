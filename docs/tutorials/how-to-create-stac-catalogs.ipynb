{
 "cells": [
  {
   "cell_type": "markdown",
   "metadata": {},
   "source": [
    "# How to create STAC Catalogs \n",
    "## STAC Community Sprint, Arlington, November 7th 2019"
   ]
  },
  {
   "cell_type": "markdown",
   "metadata": {},
   "source": [
    "This notebook runs through some of the basics of using PySTAC to create a static STAC. It was part of a 30 minute presentation at the [community STAC sprint](https://github.com/radiantearth/community-sprints/tree/master/11052019-arlignton-va) in Arlington, VA in November 2019."
   ]
  },
  {
   "cell_type": "markdown",
   "metadata": {},
   "source": [
    "This tutorial will require the `boto3`, `rasterio`, and `shapely` libraries:"
   ]
  },
  {
   "cell_type": "code",
   "execution_count": 1,
   "metadata": {},
   "outputs": [
    {
     "name": "stdout",
     "output_type": "stream",
     "text": [
      "Defaulting to user installation because normal site-packages is not writeable\n",
      "Requirement already satisfied: boto3 in /home/simon/.local/lib/python3.6/site-packages (1.9.181)\n",
      "Requirement already satisfied: botocore<1.13.0,>=1.12.181 in /home/simon/.local/lib/python3.6/site-packages (from boto3) (1.12.181)\n",
      "Requirement already satisfied: jmespath<1.0.0,>=0.7.1 in /home/simon/.local/lib/python3.6/site-packages (from boto3) (0.9.4)\n",
      "Requirement already satisfied: s3transfer<0.3.0,>=0.2.0 in /home/simon/.local/lib/python3.6/site-packages (from boto3) (0.2.1)\n",
      "Requirement already satisfied: python-dateutil<3.0.0,>=2.1; python_version >= \"2.7\" in /home/simon/.local/lib/python3.6/site-packages (from botocore<1.13.0,>=1.12.181->boto3) (2.7.5)\n",
      "Requirement already satisfied: urllib3<1.26,>=1.20; python_version >= \"3.4\" in /home/simon/.local/lib/python3.6/site-packages (from botocore<1.13.0,>=1.12.181->boto3) (1.25.3)\n",
      "Requirement already satisfied: docutils>=0.10 in /home/simon/.local/lib/python3.6/site-packages (from botocore<1.13.0,>=1.12.181->boto3) (0.14)\n",
      "Requirement already satisfied: six>=1.5 in /home/simon/.local/lib/python3.6/site-packages (from python-dateutil<3.0.0,>=2.1; python_version >= \"2.7\"->botocore<1.13.0,>=1.12.181->boto3) (1.11.0)\n",
      "\u001b[33mWARNING: You are using pip version 20.0.2; however, version 20.1 is available.\n",
      "You should consider upgrading via the '/usr/bin/python3 -m pip install --upgrade pip' command.\u001b[0m\n",
      "Defaulting to user installation because normal site-packages is not writeable\n",
      "Requirement already satisfied: rasterio in /home/simon/.local/lib/python3.6/site-packages (1.0.7)\n",
      "Requirement already satisfied: click-plugins in /home/simon/.local/lib/python3.6/site-packages (from rasterio) (1.1.1)\n",
      "Requirement already satisfied: snuggs>=1.4.1 in /home/simon/.local/lib/python3.6/site-packages (from rasterio) (1.4.6)\n",
      "Requirement already satisfied: numpy in /home/simon/.local/lib/python3.6/site-packages (from rasterio) (1.17.0)\n",
      "Requirement already satisfied: cligj>=0.5 in /home/simon/.local/lib/python3.6/site-packages (from rasterio) (0.5.0)\n",
      "Requirement already satisfied: attrs in /home/simon/.local/lib/python3.6/site-packages (from rasterio) (19.1.0)\n",
      "Requirement already satisfied: affine in /home/simon/.local/lib/python3.6/site-packages (from rasterio) (2.2.2)\n",
      "Requirement already satisfied: click>=4.0 in /home/simon/.local/lib/python3.6/site-packages (from click-plugins->rasterio) (6.7)\n",
      "Requirement already satisfied: pyparsing>=2.1.6 in /home/simon/.local/lib/python3.6/site-packages (from snuggs>=1.4.1->rasterio) (2.4.0)\n",
      "\u001b[33mWARNING: You are using pip version 20.0.2; however, version 20.1 is available.\n",
      "You should consider upgrading via the '/usr/bin/python3 -m pip install --upgrade pip' command.\u001b[0m\n",
      "Defaulting to user installation because normal site-packages is not writeable\n",
      "Requirement already satisfied: shapely in /home/simon/.local/lib/python3.6/site-packages (1.6.4.post2)\n",
      "\u001b[33mWARNING: You are using pip version 20.0.2; however, version 20.1 is available.\n",
      "You should consider upgrading via the '/usr/bin/python3 -m pip install --upgrade pip' command.\u001b[0m\n"
     ]
    }
   ],
   "source": [
    "!pip install boto3\n",
    "!pip install rasterio\n",
    "!pip install shapely"
   ]
  },
  {
   "cell_type": "markdown",
   "metadata": {},
   "source": [
    "We can import pystac with the alias `stac` to access all of the API we need (saving a glorious 2 characters): "
   ]
  },
  {
   "cell_type": "code",
   "execution_count": 2,
   "metadata": {},
   "outputs": [],
   "source": [
    "import pystac as stac"
   ]
  },
  {
   "cell_type": "markdown",
   "metadata": {},
   "source": [
    "## Creating a catalog from a local file"
   ]
  },
  {
   "cell_type": "markdown",
   "metadata": {},
   "source": [
    "To give us some material to work with, lets download a single image from the [Spacenet 5 challenge](https://www.topcoder.com/challenges/30099956). We'll use a temporary directory to save off our single-item STAC."
   ]
  },
  {
   "cell_type": "code",
   "execution_count": 3,
   "metadata": {},
   "outputs": [],
   "source": [
    "import os\n",
    "import urllib.request\n",
    "from tempfile import TemporaryDirectory\n",
    "\n",
    "tmp_dir = TemporaryDirectory()\n",
    "img_path = os.path.join(tmp_dir.name, 'image.tif')"
   ]
  },
  {
   "cell_type": "code",
   "execution_count": 4,
   "metadata": {},
   "outputs": [
    {
     "data": {
      "text/plain": [
       "('/tmp/tmpm30k6asb/image.tif', <http.client.HTTPMessage at 0x7fa2c8178f28>)"
      ]
     },
     "execution_count": 4,
     "metadata": {},
     "output_type": "execute_result"
    }
   ],
   "source": [
    "url = ('http://spacenet-dataset.s3.amazonaws.com/'\n",
    "       'spacenet/SN5_roads/train/AOI_7_Moscow/MS/'\n",
    "       'SN5_roads_train_AOI_7_Moscow_MS_chip996.tif')\n",
    "urllib.request.urlretrieve(url, img_path)"
   ]
  },
  {
   "cell_type": "markdown",
   "metadata": {},
   "source": [
    "We want to create a Catalog. Let's check the pydocs for `Catalog` to see what information we'll need. (We use `__doc__` instead of `help()` here to avoid printing out all the docs for the class.)"
   ]
  },
  {
   "cell_type": "code",
   "execution_count": 5,
   "metadata": {},
   "outputs": [
    {
     "name": "stdout",
     "output_type": "stream",
     "text": [
      "A PySTAC Catalog represents a STAC catalog in memory.\n",
      "\n",
      "    A Catalog is a :class:`~pystac.STACObject` that may contain children,\n",
      "    which are instances of :class:`~pystac.Catalog` or :class:`~pystac.Collection`,\n",
      "    as well as :class:`~pystac.Item` s.\n",
      "\n",
      "    Args:\n",
      "        id (str): Identifier for the catalog. Must be unique within the STAC.\n",
      "        description (str): Detailed multi-line description to fully explain the catalog.\n",
      "            `CommonMark 0.28 syntax <http://commonmark.org/>`_ MAY be used for rich text\n",
      "            representation.\n",
      "        title (str or None): Optional short descriptive one-line title for the catalog.\n",
      "        stac_extensions (List[str]): Optional list of extensions the Catalog implements.\n",
      "        href (str or None): Optional HREF for this catalog, which be set as the catalog's\n",
      "            self link's HREF.\n",
      "\n",
      "    Attributes:\n",
      "        id (str): Identifier for the catalog.\n",
      "        description (str): Detailed multi-line description to fully explain the catalog.\n",
      "        title (str or None): Optional short descriptive one-line title for the catalog.\n",
      "        stac_extensions (List[str] or None): Optional list of extensions the Catalog implements.\n",
      "        links (List[Link]): A list of :class:`~pystac.Link` objects representing\n",
      "            all links associated with this Catalog.\n",
      "    \n"
     ]
    }
   ],
   "source": [
    "print(stac.Catalog.__doc__)"
   ]
  },
  {
   "cell_type": "markdown",
   "metadata": {},
   "source": [
    "Let's just give an ID and a description. We don't have to worry about the HREF right now;  that  will be set later."
   ]
  },
  {
   "cell_type": "code",
   "execution_count": 6,
   "metadata": {},
   "outputs": [],
   "source": [
    "catalog = stac.Catalog(id='test-catalog', description='Tutorial catalog.')"
   ]
  },
  {
   "cell_type": "markdown",
   "metadata": {},
   "source": [
    "There are no children or items in the catalog, since we haven't added anything yet."
   ]
  },
  {
   "cell_type": "code",
   "execution_count": 7,
   "metadata": {},
   "outputs": [
    {
     "name": "stdout",
     "output_type": "stream",
     "text": [
      "[]\n",
      "[]\n"
     ]
    }
   ],
   "source": [
    "print(list(catalog.get_children()))\n",
    "print(list(catalog.get_items()))"
   ]
  },
  {
   "cell_type": "markdown",
   "metadata": {},
   "source": [
    "We'll now create an Item to represent the image. Check the pydocs to see what you need to supply:"
   ]
  },
  {
   "cell_type": "code",
   "execution_count": 8,
   "metadata": {},
   "outputs": [
    {
     "name": "stdout",
     "output_type": "stream",
     "text": [
      "An Item is the core granular entity in a STAC, containing the core metadata\n",
      "    that enables any client to search or crawl online catalogs of spatial 'assets' -\n",
      "    satellite imagery, derived data, DEM's, etc.\n",
      "\n",
      "    Args:\n",
      "        id (str): Provider identifier. Must be unique within the STAC.\n",
      "        geometry (dict): Defines the full footprint of the asset represented by this item,\n",
      "            formatted according to `RFC 7946, section 3.1 (GeoJSON)\n",
      "            <https://tools.ietf.org/html/rfc7946>`_.\n",
      "        bbox (List[float]):  Bounding Box of the asset represented by this item using\n",
      "            either 2D or 3D geometries. The length of the array must be 2*n where n is the\n",
      "            number of dimensions.\n",
      "        datetime (Datetime): Datetime associated with this item.\n",
      "        properties (dict): A dictionary of additional metadata for the item.\n",
      "        stac_extensions (List[str]): Optional list of extensions the Item implements.\n",
      "        href (str or None): Optional HREF for this item, which be set as the item's\n",
      "            self link's HREF.\n",
      "        collection (Collection or str): The Collection or Collection ID that this item\n",
      "            belongs to.\n",
      "\n",
      "    Attributes:\n",
      "        id (str): Provider identifier. Unique within the STAC.\n",
      "        geometry (dict): Defines the full footprint of the asset represented by this item,\n",
      "            formatted according to `RFC 7946, section 3.1 (GeoJSON)\n",
      "            <https://tools.ietf.org/html/rfc7946>`_.\n",
      "        bbox (List[float]):  Bounding Box of the asset represented by this item using\n",
      "            either 2D or 3D geometries. The length of the array is 2*n where n is the\n",
      "            number of dimensions.\n",
      "        datetime (Datetime): Datetime associated with this item.\n",
      "        properties (dict): A dictionary of additional metadata for the item.\n",
      "        stac_extensions (List[str] or None): Optional list of extensions the Item implements.\n",
      "        collection (Collection or None): Collection that this item is a part of.\n",
      "        links (List[Link]): A list of :class:`~pystac.Link` objects representing\n",
      "            all links associated with this STACObject.\n",
      "        assets (Dict[str, Asset]): Dictionary of asset objects that can be downloaded,\n",
      "            each with a unique key.\n",
      "        collection_id (str or None): The Collection ID that this item belongs to, if any.\n",
      "    \n"
     ]
    }
   ],
   "source": [
    "print(stac.Item.__doc__)"
   ]
  },
  {
   "cell_type": "markdown",
   "metadata": {},
   "source": [
    "Using [rasterio](https://rasterio.readthedocs.io/en/stable/), we can pull out the bounding box of the image to use for the image metadata. If the image contained a NoData border, we would ideally pull out the footprint and save it as the geometry; in this case, we're working with a small chip the most likely has no NoData values."
   ]
  },
  {
   "cell_type": "code",
   "execution_count": 9,
   "metadata": {},
   "outputs": [],
   "source": [
    "import rasterio\n",
    "from shapely.geometry import Polygon, mapping\n",
    "\n",
    "def get_bbox_and_footprint(raster_uri):\n",
    "    with rasterio.open(raster_uri) as ds:\n",
    "        bounds = ds.bounds\n",
    "        bbox = [bounds.left, bounds.bottom, bounds.right, bounds.top]\n",
    "        footprint = Polygon([\n",
    "            [bounds.left, bounds.bottom],\n",
    "            [bounds.left, bounds.top],\n",
    "            [bounds.right, bounds.top],\n",
    "            [bounds.right, bounds.bottom]\n",
    "        ])\n",
    "        \n",
    "        return (bbox, mapping(footprint))"
   ]
  },
  {
   "cell_type": "code",
   "execution_count": 10,
   "metadata": {},
   "outputs": [
    {
     "name": "stdout",
     "output_type": "stream",
     "text": [
      "[37.6616853489879, 55.73478197572927, 37.66573047610874, 55.73882710285011]\n",
      "{'type': 'Polygon', 'coordinates': (((37.6616853489879, 55.73478197572927), (37.6616853489879, 55.73882710285011), (37.66573047610874, 55.73882710285011), (37.66573047610874, 55.73478197572927), (37.6616853489879, 55.73478197572927)),)}\n"
     ]
    }
   ],
   "source": [
    "bbox, footprint = get_bbox_and_footprint(img_path)\n",
    "print(bbox)\n",
    "print(footprint)"
   ]
  },
  {
   "cell_type": "markdown",
   "metadata": {},
   "source": [
    "We're also using `datetime.utcnow()` to supply the required datetime property for our Item. Since this is a required property, you might often find yourself making up a time to fill in if you don't know the exact capture time."
   ]
  },
  {
   "cell_type": "code",
   "execution_count": 11,
   "metadata": {},
   "outputs": [],
   "source": [
    "from datetime import datetime\n",
    "\n",
    "item = stac.Item(id='local-image',\n",
    "                 geometry=footprint,\n",
    "                 bbox=bbox,\n",
    "                 datetime=datetime.utcnow(),\n",
    "                 properties={})"
   ]
  },
  {
   "cell_type": "markdown",
   "metadata": {},
   "source": [
    "We haven't added it to a catalog yet, so it's parent isn't set. Once we add it to the catalog, we can see it correctly links to it's parent."
   ]
  },
  {
   "cell_type": "code",
   "execution_count": 12,
   "metadata": {},
   "outputs": [
    {
     "data": {
      "text/plain": [
       "True"
      ]
     },
     "execution_count": 12,
     "metadata": {},
     "output_type": "execute_result"
    }
   ],
   "source": [
    "item.get_parent() is None"
   ]
  },
  {
   "cell_type": "code",
   "execution_count": 13,
   "metadata": {},
   "outputs": [],
   "source": [
    "catalog.add_item(item)"
   ]
  },
  {
   "cell_type": "code",
   "execution_count": 14,
   "metadata": {},
   "outputs": [
    {
     "data": {
      "text/plain": [
       "<Catalog id=test-catalog>"
      ]
     },
     "execution_count": 14,
     "metadata": {},
     "output_type": "execute_result"
    }
   ],
   "source": [
    "item.get_parent()"
   ]
  },
  {
   "cell_type": "markdown",
   "metadata": {},
   "source": [
    "`describe()` is a useful method on `Catalog` - but be careful when using it on large catalogs, as it will walk the entire tree of the STAC."
   ]
  },
  {
   "cell_type": "code",
   "execution_count": 15,
   "metadata": {},
   "outputs": [
    {
     "name": "stdout",
     "output_type": "stream",
     "text": [
      "* <Catalog id=test-catalog>\n",
      "  * <Item id=local-image>\n"
     ]
    }
   ],
   "source": [
    "catalog.describe()"
   ]
  },
  {
   "cell_type": "markdown",
   "metadata": {},
   "source": [
    "### Adding Assets\n",
    "\n",
    "We've created an Item, but there aren't any assets associated with it. Let's create one:"
   ]
  },
  {
   "cell_type": "code",
   "execution_count": 16,
   "metadata": {},
   "outputs": [
    {
     "name": "stdout",
     "output_type": "stream",
     "text": [
      "An object that contains a link to data associated with the Item that can be\n",
      "    downloaded or streamed.\n",
      "\n",
      "    Args:\n",
      "        href (str): Link to the asset object. Relative and absolute links are both allowed.\n",
      "        title (str): Optional displayed title for clients and users.\n",
      "        media_type (str): Optional description of the media type. Registered Media Types\n",
      "            are preferred. See :class:`~pystac.MediaType` for common media types.\n",
      "        properties (dict): Optional, additional properties for this asset. This is used by\n",
      "            extensions as a way to serialize and deserialize properties on asset\n",
      "            object JSON.\n",
      "\n",
      "    Attributes:\n",
      "        href (str): Link to the asset object. Relative and absolute links are both allowed.\n",
      "        title (str): Optional displayed title for clients and users.\n",
      "        media_type (str): Optional description of the media type. Registered Media Types\n",
      "            are preferred. See :class:`~pystac.MediaType` for common media types.\n",
      "        properties (dict): Optional, additional properties for this asset. This is used by\n",
      "            extensions as a way to serialize and deserialize properties on asset\n",
      "            object JSON.\n",
      "        owner (Item or None): The Item this asset belongs to.\n",
      "    \n"
     ]
    }
   ],
   "source": [
    "print(stac.Asset.__doc__)"
   ]
  },
  {
   "cell_type": "code",
   "execution_count": 17,
   "metadata": {},
   "outputs": [
    {
     "data": {
      "text/plain": [
       "<Item id=local-image>"
      ]
     },
     "execution_count": 17,
     "metadata": {},
     "output_type": "execute_result"
    }
   ],
   "source": [
    "item.add_asset(key='image', asset=stac.Asset(href=img_path, media_type=stac.MediaType.GEOTIFF))"
   ]
  },
  {
   "cell_type": "markdown",
   "metadata": {},
   "source": [
    "At any time we can call `to_dict()` on STAC objects to see how the STAC JSON is shaping up. Notice the asset is now set:"
   ]
  },
  {
   "cell_type": "code",
   "execution_count": 18,
   "metadata": {},
   "outputs": [
    {
     "ename": "AttributeError",
     "evalue": "'NoneType' object has no attribute 'lower'",
     "output_type": "error",
     "traceback": [
      "\u001b[0;31m---------------------------------------------------------------------------\u001b[0m",
      "\u001b[0;31mAttributeError\u001b[0m                            Traceback (most recent call last)",
      "\u001b[0;32m<ipython-input-18-8fc29b8a3af9>\u001b[0m in \u001b[0;36m<module>\u001b[0;34m\u001b[0m\n\u001b[1;32m      1\u001b[0m \u001b[0;32mimport\u001b[0m \u001b[0mjson\u001b[0m\u001b[0;34m\u001b[0m\u001b[0;34m\u001b[0m\u001b[0m\n\u001b[0;32m----> 2\u001b[0;31m \u001b[0mprint\u001b[0m\u001b[0;34m(\u001b[0m\u001b[0mjson\u001b[0m\u001b[0;34m.\u001b[0m\u001b[0mdumps\u001b[0m\u001b[0;34m(\u001b[0m\u001b[0mitem\u001b[0m\u001b[0;34m.\u001b[0m\u001b[0mto_dict\u001b[0m\u001b[0;34m(\u001b[0m\u001b[0;34m)\u001b[0m\u001b[0;34m,\u001b[0m \u001b[0mindent\u001b[0m\u001b[0;34m=\u001b[0m\u001b[0;36m4\u001b[0m\u001b[0;34m)\u001b[0m\u001b[0;34m)\u001b[0m\u001b[0;34m\u001b[0m\u001b[0;34m\u001b[0m\u001b[0m\n\u001b[0m",
      "\u001b[0;32m~/.local/lib/python3.6/site-packages/pystac/item.py\u001b[0m in \u001b[0;36mto_dict\u001b[0;34m(self, include_self_link)\u001b[0m\n\u001b[1;32m    178\u001b[0m             \u001b[0;34m'geometry'\u001b[0m\u001b[0;34m:\u001b[0m \u001b[0mself\u001b[0m\u001b[0;34m.\u001b[0m\u001b[0mgeometry\u001b[0m\u001b[0;34m,\u001b[0m\u001b[0;34m\u001b[0m\u001b[0;34m\u001b[0m\u001b[0m\n\u001b[1;32m    179\u001b[0m             \u001b[0;34m'bbox'\u001b[0m\u001b[0;34m:\u001b[0m \u001b[0mself\u001b[0m\u001b[0;34m.\u001b[0m\u001b[0mbbox\u001b[0m\u001b[0;34m,\u001b[0m\u001b[0;34m\u001b[0m\u001b[0;34m\u001b[0m\u001b[0m\n\u001b[0;32m--> 180\u001b[0;31m             \u001b[0;34m'links'\u001b[0m\u001b[0;34m:\u001b[0m \u001b[0;34m[\u001b[0m\u001b[0ml\u001b[0m\u001b[0;34m.\u001b[0m\u001b[0mto_dict\u001b[0m\u001b[0;34m(\u001b[0m\u001b[0;34m)\u001b[0m \u001b[0;32mfor\u001b[0m \u001b[0ml\u001b[0m \u001b[0;32min\u001b[0m \u001b[0mlinks\u001b[0m\u001b[0;34m]\u001b[0m\u001b[0;34m,\u001b[0m\u001b[0;34m\u001b[0m\u001b[0;34m\u001b[0m\u001b[0m\n\u001b[0m\u001b[1;32m    181\u001b[0m             \u001b[0;34m'assets'\u001b[0m\u001b[0;34m:\u001b[0m \u001b[0massets\u001b[0m\u001b[0;34m\u001b[0m\u001b[0;34m\u001b[0m\u001b[0m\n\u001b[1;32m    182\u001b[0m         }\n",
      "\u001b[0;32m~/.local/lib/python3.6/site-packages/pystac/item.py\u001b[0m in \u001b[0;36m<listcomp>\u001b[0;34m(.0)\u001b[0m\n\u001b[1;32m    178\u001b[0m             \u001b[0;34m'geometry'\u001b[0m\u001b[0;34m:\u001b[0m \u001b[0mself\u001b[0m\u001b[0;34m.\u001b[0m\u001b[0mgeometry\u001b[0m\u001b[0;34m,\u001b[0m\u001b[0;34m\u001b[0m\u001b[0;34m\u001b[0m\u001b[0m\n\u001b[1;32m    179\u001b[0m             \u001b[0;34m'bbox'\u001b[0m\u001b[0;34m:\u001b[0m \u001b[0mself\u001b[0m\u001b[0;34m.\u001b[0m\u001b[0mbbox\u001b[0m\u001b[0;34m,\u001b[0m\u001b[0;34m\u001b[0m\u001b[0;34m\u001b[0m\u001b[0m\n\u001b[0;32m--> 180\u001b[0;31m             \u001b[0;34m'links'\u001b[0m\u001b[0;34m:\u001b[0m \u001b[0;34m[\u001b[0m\u001b[0ml\u001b[0m\u001b[0;34m.\u001b[0m\u001b[0mto_dict\u001b[0m\u001b[0;34m(\u001b[0m\u001b[0;34m)\u001b[0m \u001b[0;32mfor\u001b[0m \u001b[0ml\u001b[0m \u001b[0;32min\u001b[0m \u001b[0mlinks\u001b[0m\u001b[0;34m]\u001b[0m\u001b[0;34m,\u001b[0m\u001b[0;34m\u001b[0m\u001b[0;34m\u001b[0m\u001b[0m\n\u001b[0m\u001b[1;32m    181\u001b[0m             \u001b[0;34m'assets'\u001b[0m\u001b[0;34m:\u001b[0m \u001b[0massets\u001b[0m\u001b[0;34m\u001b[0m\u001b[0;34m\u001b[0m\u001b[0m\n\u001b[1;32m    182\u001b[0m         }\n",
      "\u001b[0;32m~/.local/lib/python3.6/site-packages/pystac/link.py\u001b[0m in \u001b[0;36mto_dict\u001b[0;34m(self)\u001b[0m\n\u001b[1;32m    191\u001b[0m         \u001b[0md\u001b[0m \u001b[0;34m=\u001b[0m \u001b[0;34m{\u001b[0m\u001b[0;34m'rel'\u001b[0m\u001b[0;34m:\u001b[0m \u001b[0mself\u001b[0m\u001b[0;34m.\u001b[0m\u001b[0mrel\u001b[0m\u001b[0;34m}\u001b[0m\u001b[0;34m\u001b[0m\u001b[0;34m\u001b[0m\u001b[0m\n\u001b[1;32m    192\u001b[0m \u001b[0;34m\u001b[0m\u001b[0m\n\u001b[0;32m--> 193\u001b[0;31m         \u001b[0md\u001b[0m\u001b[0;34m[\u001b[0m\u001b[0;34m'href'\u001b[0m\u001b[0;34m]\u001b[0m \u001b[0;34m=\u001b[0m \u001b[0mself\u001b[0m\u001b[0;34m.\u001b[0m\u001b[0mget_href\u001b[0m\u001b[0;34m(\u001b[0m\u001b[0;34m)\u001b[0m\u001b[0;34m\u001b[0m\u001b[0;34m\u001b[0m\u001b[0m\n\u001b[0m\u001b[1;32m    194\u001b[0m \u001b[0;34m\u001b[0m\u001b[0m\n\u001b[1;32m    195\u001b[0m         \u001b[0;32mif\u001b[0m \u001b[0mself\u001b[0m\u001b[0;34m.\u001b[0m\u001b[0mmedia_type\u001b[0m \u001b[0;32mis\u001b[0m \u001b[0;32mnot\u001b[0m \u001b[0;32mNone\u001b[0m\u001b[0;34m:\u001b[0m\u001b[0;34m\u001b[0m\u001b[0;34m\u001b[0m\u001b[0m\n",
      "\u001b[0;32m~/.local/lib/python3.6/site-packages/pystac/link.py\u001b[0m in \u001b[0;36mget_href\u001b[0;34m(self)\u001b[0m\n\u001b[1;32m    109\u001b[0m                 \u001b[0mhref\u001b[0m \u001b[0;34m=\u001b[0m \u001b[0mmake_relative_href\u001b[0m\u001b[0;34m(\u001b[0m\u001b[0mhref\u001b[0m\u001b[0;34m,\u001b[0m \u001b[0mself\u001b[0m\u001b[0;34m.\u001b[0m\u001b[0mowner\u001b[0m\u001b[0;34m.\u001b[0m\u001b[0mget_self_href\u001b[0m\u001b[0;34m(\u001b[0m\u001b[0;34m)\u001b[0m\u001b[0;34m)\u001b[0m\u001b[0;34m\u001b[0m\u001b[0;34m\u001b[0m\u001b[0m\n\u001b[1;32m    110\u001b[0m         \u001b[0;32melse\u001b[0m\u001b[0;34m:\u001b[0m\u001b[0;34m\u001b[0m\u001b[0;34m\u001b[0m\u001b[0m\n\u001b[0;32m--> 111\u001b[0;31m             \u001b[0mhref\u001b[0m \u001b[0;34m=\u001b[0m \u001b[0mself\u001b[0m\u001b[0;34m.\u001b[0m\u001b[0mget_absolute_href\u001b[0m\u001b[0;34m(\u001b[0m\u001b[0;34m)\u001b[0m\u001b[0;34m\u001b[0m\u001b[0;34m\u001b[0m\u001b[0m\n\u001b[0m\u001b[1;32m    112\u001b[0m \u001b[0;34m\u001b[0m\u001b[0m\n\u001b[1;32m    113\u001b[0m         \u001b[0;32mreturn\u001b[0m \u001b[0mhref\u001b[0m\u001b[0;34m\u001b[0m\u001b[0;34m\u001b[0m\u001b[0m\n",
      "\u001b[0;32m~/.local/lib/python3.6/site-packages/pystac/link.py\u001b[0m in \u001b[0;36mget_absolute_href\u001b[0;34m(self)\u001b[0m\n\u001b[1;32m    127\u001b[0m \u001b[0;34m\u001b[0m\u001b[0m\n\u001b[1;32m    128\u001b[0m         \u001b[0;32mif\u001b[0m \u001b[0mself\u001b[0m\u001b[0;34m.\u001b[0m\u001b[0mowner\u001b[0m \u001b[0;32mis\u001b[0m \u001b[0;32mnot\u001b[0m \u001b[0;32mNone\u001b[0m\u001b[0;34m:\u001b[0m\u001b[0;34m\u001b[0m\u001b[0;34m\u001b[0m\u001b[0m\n\u001b[0;32m--> 129\u001b[0;31m             \u001b[0mhref\u001b[0m \u001b[0;34m=\u001b[0m \u001b[0mmake_absolute_href\u001b[0m\u001b[0;34m(\u001b[0m\u001b[0mhref\u001b[0m\u001b[0;34m,\u001b[0m \u001b[0mself\u001b[0m\u001b[0;34m.\u001b[0m\u001b[0mowner\u001b[0m\u001b[0;34m.\u001b[0m\u001b[0mget_self_href\u001b[0m\u001b[0;34m(\u001b[0m\u001b[0;34m)\u001b[0m\u001b[0;34m)\u001b[0m\u001b[0;34m\u001b[0m\u001b[0;34m\u001b[0m\u001b[0m\n\u001b[0m\u001b[1;32m    130\u001b[0m \u001b[0;34m\u001b[0m\u001b[0m\n\u001b[1;32m    131\u001b[0m         \u001b[0;32mreturn\u001b[0m \u001b[0mhref\u001b[0m\u001b[0;34m\u001b[0m\u001b[0;34m\u001b[0m\u001b[0m\n",
      "\u001b[0;32m~/.local/lib/python3.6/site-packages/pystac/utils.py\u001b[0m in \u001b[0;36mmake_absolute_href\u001b[0;34m(source_href, start_href, start_is_dir)\u001b[0m\n\u001b[1;32m     94\u001b[0m         \u001b[0mstart_is_dir\u001b[0m \u001b[0;34m=\u001b[0m \u001b[0;32mTrue\u001b[0m\u001b[0;34m\u001b[0m\u001b[0;34m\u001b[0m\u001b[0m\n\u001b[1;32m     95\u001b[0m \u001b[0;34m\u001b[0m\u001b[0m\n\u001b[0;32m---> 96\u001b[0;31m     \u001b[0mparsed_source\u001b[0m \u001b[0;34m=\u001b[0m \u001b[0m_urlparse\u001b[0m\u001b[0;34m(\u001b[0m\u001b[0msource_href\u001b[0m\u001b[0;34m)\u001b[0m\u001b[0;34m\u001b[0m\u001b[0;34m\u001b[0m\u001b[0m\n\u001b[0m\u001b[1;32m     97\u001b[0m     \u001b[0;32mif\u001b[0m \u001b[0mparsed_source\u001b[0m\u001b[0;34m.\u001b[0m\u001b[0mscheme\u001b[0m \u001b[0;34m==\u001b[0m \u001b[0;34m''\u001b[0m\u001b[0;34m:\u001b[0m\u001b[0;34m\u001b[0m\u001b[0;34m\u001b[0m\u001b[0m\n\u001b[1;32m     98\u001b[0m         \u001b[0;32mif\u001b[0m \u001b[0;32mnot\u001b[0m \u001b[0m_pathlib\u001b[0m\u001b[0;34m.\u001b[0m\u001b[0misabs\u001b[0m\u001b[0;34m(\u001b[0m\u001b[0mparsed_source\u001b[0m\u001b[0;34m.\u001b[0m\u001b[0mpath\u001b[0m\u001b[0;34m)\u001b[0m\u001b[0;34m:\u001b[0m\u001b[0;34m\u001b[0m\u001b[0;34m\u001b[0m\u001b[0m\n",
      "\u001b[0;32m~/.local/lib/python3.6/site-packages/pystac/utils.py\u001b[0m in \u001b[0;36m_urlparse\u001b[0;34m(href)\u001b[0m\n\u001b[1;32m     16\u001b[0m     \"\"\"\n\u001b[1;32m     17\u001b[0m     \u001b[0mparsed\u001b[0m \u001b[0;34m=\u001b[0m \u001b[0murlparse\u001b[0m\u001b[0;34m(\u001b[0m\u001b[0mhref\u001b[0m\u001b[0;34m)\u001b[0m\u001b[0;34m\u001b[0m\u001b[0;34m\u001b[0m\u001b[0m\n\u001b[0;32m---> 18\u001b[0;31m     \u001b[0;32mif\u001b[0m \u001b[0mparsed\u001b[0m\u001b[0;34m.\u001b[0m\u001b[0mscheme\u001b[0m \u001b[0;34m!=\u001b[0m \u001b[0;34m''\u001b[0m \u001b[0;32mand\u001b[0m \u001b[0mhref\u001b[0m\u001b[0;34m.\u001b[0m\u001b[0mlower\u001b[0m\u001b[0;34m(\u001b[0m\u001b[0;34m)\u001b[0m\u001b[0;34m.\u001b[0m\u001b[0mstartswith\u001b[0m\u001b[0;34m(\u001b[0m\u001b[0;34m'{}:\\\\'\u001b[0m\u001b[0;34m.\u001b[0m\u001b[0mformat\u001b[0m\u001b[0;34m(\u001b[0m\u001b[0mparsed\u001b[0m\u001b[0;34m.\u001b[0m\u001b[0mscheme\u001b[0m\u001b[0;34m)\u001b[0m\u001b[0;34m)\u001b[0m\u001b[0;34m:\u001b[0m\u001b[0;34m\u001b[0m\u001b[0;34m\u001b[0m\u001b[0m\n\u001b[0m\u001b[1;32m     19\u001b[0m         return URLParseResult(scheme='',\n\u001b[1;32m     20\u001b[0m                               \u001b[0mnetloc\u001b[0m\u001b[0;34m=\u001b[0m\u001b[0;34m''\u001b[0m\u001b[0;34m,\u001b[0m\u001b[0;34m\u001b[0m\u001b[0;34m\u001b[0m\u001b[0m\n",
      "\u001b[0;31mAttributeError\u001b[0m: 'NoneType' object has no attribute 'lower'"
     ]
    }
   ],
   "source": [
    "import json\n",
    "print(json.dumps(item.to_dict(), indent=4))"
   ]
  },
  {
   "cell_type": "code",
   "execution_count": 23,
   "metadata": {},
   "outputs": [
    {
     "ename": "AttributeError",
     "evalue": "'Item' object has no attribute 'get_href'",
     "output_type": "error",
     "traceback": [
      "\u001b[0;31m---------------------------------------------------------------------------\u001b[0m",
      "\u001b[0;31mAttributeError\u001b[0m                            Traceback (most recent call last)",
      "\u001b[0;32m<ipython-input-23-21f2b3ce0b2e>\u001b[0m in \u001b[0;36m<module>\u001b[0;34m\u001b[0m\n\u001b[0;32m----> 1\u001b[0;31m \u001b[0mitem\u001b[0m\u001b[0;34m.\u001b[0m\u001b[0mget_href\u001b[0m\u001b[0;34m(\u001b[0m\u001b[0;34m)\u001b[0m\u001b[0;34m\u001b[0m\u001b[0;34m\u001b[0m\u001b[0m\n\u001b[0m",
      "\u001b[0;31mAttributeError\u001b[0m: 'Item' object has no attribute 'get_href'"
     ]
    }
   ],
   "source": [
    "item.get_href()"
   ]
  },
  {
   "cell_type": "code",
   "execution_count": 31,
   "metadata": {},
   "outputs": [
    {
     "data": {
      "text/plain": [
       "True"
      ]
     },
     "execution_count": 31,
     "metadata": {},
     "output_type": "execute_result"
    }
   ],
   "source": [
    "l.is_resolved()"
   ]
  },
  {
   "cell_type": "code",
   "execution_count": 28,
   "metadata": {
    "scrolled": true
   },
   "outputs": [],
   "source": [
    "l = item.links[0]"
   ]
  },
  {
   "cell_type": "code",
   "execution_count": 33,
   "metadata": {},
   "outputs": [],
   "source": [
    "l.target.get_self_href()"
   ]
  },
  {
   "cell_type": "markdown",
   "metadata": {},
   "source": [
    "Note that the link `href` properties are `null`. This is OK, as we're working with the STAC in memory. Next, we'll talk about writing the catalog out, and how to set those HREFs."
   ]
  },
  {
   "cell_type": "markdown",
   "metadata": {},
   "source": [
    "### Saving the catalog"
   ]
  },
  {
   "cell_type": "markdown",
   "metadata": {},
   "source": [
    "As the JSON above indicates, there's no HREFs set on these in-memory items. PySTAC uses the `self` link on STAC objects to track where the file lives. Because we haven't set them, they evaluate to `None`:"
   ]
  },
  {
   "cell_type": "code",
   "execution_count": null,
   "metadata": {},
   "outputs": [],
   "source": [
    "print(catalog.get_self_href() is None)\n",
    "print(item.get_self_href() is None)"
   ]
  },
  {
   "cell_type": "markdown",
   "metadata": {},
   "source": [
    "In order to set them, we can use `normalize_hrefs`. This method will create a normalized set of HREFs for each STAC object in the catalog, according to the [best practices document](https://github.com/radiantearth/stac-spec/blob/v0.8.1/best-practices.md#catalog-layout)'s recommendations on how to lay out a catalog."
   ]
  },
  {
   "cell_type": "code",
   "execution_count": null,
   "metadata": {},
   "outputs": [],
   "source": [
    "catalog.normalize_hrefs(os.path.join(tmp_dir.name, 'stac'))"
   ]
  },
  {
   "cell_type": "markdown",
   "metadata": {},
   "source": [
    "Now that we've normalized to a root directory (the temporary directory), we see that the `self` links are set:"
   ]
  },
  {
   "cell_type": "code",
   "execution_count": null,
   "metadata": {},
   "outputs": [],
   "source": [
    "print(catalog.get_self_href())\n",
    "print(item.get_self_href())"
   ]
  },
  {
   "cell_type": "markdown",
   "metadata": {},
   "source": [
    "We can now call `save` on the catalog, which will recursively save all the STAC objects to their respective self HREFs.\n",
    "\n",
    "Save requires a `CatalogType` to be set. You can review the [API docs](https://pystac.readthedocs.io/en/stable/api.html#catalogtype) on `CatalogType` to see what each type means (unfortunately `help` doesn't show docstrings for attributes)."
   ]
  },
  {
   "cell_type": "code",
   "execution_count": null,
   "metadata": {},
   "outputs": [],
   "source": [
    "catalog.save(catalog_type=stac.CatalogType.SELF_CONTAINED)"
   ]
  },
  {
   "cell_type": "code",
   "execution_count": null,
   "metadata": {},
   "outputs": [],
   "source": [
    "!ls {tmp_dir.name}/stac/*"
   ]
  },
  {
   "cell_type": "code",
   "execution_count": null,
   "metadata": {},
   "outputs": [],
   "source": [
    "with open(catalog.get_self_href()) as f:\n",
    "    print(f.read())"
   ]
  },
  {
   "cell_type": "code",
   "execution_count": null,
   "metadata": {},
   "outputs": [],
   "source": [
    "with open(item.get_self_href()) as f:\n",
    "    print(f.read())"
   ]
  },
  {
   "cell_type": "markdown",
   "metadata": {},
   "source": [
    "As you can see, all links are saved with relative paths. That's because we used `catalog_type=CatalogType.SELF_CONTAINED`. If we save an Absolute Published catalog, we'll see absolute paths:"
   ]
  },
  {
   "cell_type": "code",
   "execution_count": null,
   "metadata": {},
   "outputs": [],
   "source": [
    "catalog.save(catalog_type=stac.CatalogType.ABSOLUTE_PUBLISHED)"
   ]
  },
  {
   "cell_type": "markdown",
   "metadata": {},
   "source": [
    "Now the links included in the STAC item are all absolute:"
   ]
  },
  {
   "cell_type": "code",
   "execution_count": null,
   "metadata": {},
   "outputs": [],
   "source": [
    "with open(item.get_self_href()) as f:\n",
    "    print(f.read())"
   ]
  },
  {
   "cell_type": "markdown",
   "metadata": {},
   "source": [
    "Notice that the Asset HREF is absolute in both cases. We can make the Asset HREF relative to the STAC Item by using `.make_all_asset_hrefs_relative()`:"
   ]
  },
  {
   "cell_type": "code",
   "execution_count": null,
   "metadata": {},
   "outputs": [],
   "source": [
    "catalog.make_all_asset_hrefs_relative()\n",
    "catalog.save(catalog_type=stac.CatalogType.SELF_CONTAINED)"
   ]
  },
  {
   "cell_type": "code",
   "execution_count": null,
   "metadata": {},
   "outputs": [],
   "source": [
    "with open(item.get_self_href()) as f:\n",
    "    print(f.read())"
   ]
  },
  {
   "cell_type": "markdown",
   "metadata": {},
   "source": [
    "### Creating an EO Item\n",
    "\n",
    "In the code above, we encapsulated our imagery as a core STAC item. However, there's more information that we can encapsulate, given that we know this is a World View 3 image. We can do this by creating an `EOItem`, which is an Item that is extended via the [eo extension](https://github.com/radiantearth/stac-spec/tree/v0.8.1/extensions/eo):"
   ]
  },
  {
   "cell_type": "code",
   "execution_count": null,
   "metadata": {},
   "outputs": [],
   "source": [
    "print(stac.EOItem.__doc__)"
   ]
  },
  {
   "cell_type": "markdown",
   "metadata": {},
   "source": [
    "To create the EOItem, we'll need to encode some more information. First, let's define the bands of World View 3:"
   ]
  },
  {
   "cell_type": "code",
   "execution_count": null,
   "metadata": {},
   "outputs": [],
   "source": [
    "# From: https://www.spaceimagingme.com/downloads/sensors/datasheets/DG_WorldView3_DS_2014.pdf\n",
    "\n",
    "wv3_bands = [stac.Band(name='Coastal', description='Coastal: 400 - 450 nm', common_name='coastal'),\n",
    "             stac.Band(name='Blue', description='Blue: 450 - 510 nm', common_name='blue'),\n",
    "             stac.Band(name='Green', description='Green: 510 - 580 nm', common_name='green'),\n",
    "             stac.Band(name='Yellow', description='Yellow: 585 - 625 nm', common_name='yellow'),\n",
    "             stac.Band(name='Red', description='Red: 630 - 690 nm', common_name='red'),\n",
    "             stac.Band(name='Red Edge', description='Red Edge: 705 - 745 nm', common_name='rededge'),\n",
    "             stac.Band(name='Near-IR1', description='Near-IR1: 770 - 895 nm', common_name='nir08'),\n",
    "             stac.Band(name='Near-IR2', description='Near-IR2: 860 - 1040 nm', common_name='nir09')]"
   ]
  },
  {
   "cell_type": "markdown",
   "metadata": {},
   "source": [
    "We can now create an EO Item, and add it to our catalog:"
   ]
  },
  {
   "cell_type": "code",
   "execution_count": null,
   "metadata": {},
   "outputs": [],
   "source": [
    "eo_item = stac.EOItem(id='local-image-eo',\n",
    "                      geometry=footprint,\n",
    "                      bbox=bbox,\n",
    "                      datetime=datetime.utcnow(),\n",
    "                      properties={},\n",
    "                      gsd=0.3,\n",
    "                      platform=\"Maxar\",\n",
    "                      instrument=\"WorldView3\",\n",
    "                      bands=wv3_bands)"
   ]
  },
  {
   "cell_type": "code",
   "execution_count": null,
   "metadata": {},
   "outputs": [],
   "source": [
    "eo_item"
   ]
  },
  {
   "cell_type": "code",
   "execution_count": null,
   "metadata": {},
   "outputs": [],
   "source": [
    "eo_item.add_asset(key='image', asset=stac.EOAsset(href=img_path, \n",
    "                                                  media_type=stac.MediaType.GEOTIFF, \n",
    "                                                  bands=list(range(0,8))))"
   ]
  },
  {
   "cell_type": "markdown",
   "metadata": {},
   "source": [
    "Let's clear the in-memory catalog, add the EO item, and save to a new STAC:"
   ]
  },
  {
   "cell_type": "code",
   "execution_count": null,
   "metadata": {},
   "outputs": [],
   "source": [
    "catalog.clear_items()\n",
    "list(catalog.get_items())"
   ]
  },
  {
   "cell_type": "code",
   "execution_count": null,
   "metadata": {},
   "outputs": [],
   "source": [
    "catalog.add_item(eo_item)\n",
    "list(catalog.get_items())"
   ]
  },
  {
   "cell_type": "code",
   "execution_count": null,
   "metadata": {},
   "outputs": [],
   "source": [
    "catalog.normalize_and_save(root_href=os.path.join(tmp_dir.name, 'stac-eo'), \n",
    "                           catalog_type=stac.CatalogType.SELF_CONTAINED)"
   ]
  },
  {
   "cell_type": "markdown",
   "metadata": {},
   "source": [
    "Now, if we read the catalog from the filesystem, PySTAC recognizes the EOItem and loads it in with the correct type:"
   ]
  },
  {
   "cell_type": "code",
   "execution_count": null,
   "metadata": {},
   "outputs": [],
   "source": [
    "catalog2 = stac.Catalog.from_file(os.path.join(tmp_dir.name, 'stac-eo', 'catalog.json'))"
   ]
  },
  {
   "cell_type": "code",
   "execution_count": null,
   "metadata": {},
   "outputs": [],
   "source": [
    "list(catalog2.get_items())"
   ]
  },
  {
   "cell_type": "code",
   "execution_count": null,
   "metadata": {},
   "outputs": [],
   "source": [
    "next(catalog2.get_all_items()).assets"
   ]
  },
  {
   "cell_type": "code",
   "execution_count": null,
   "metadata": {},
   "outputs": [],
   "source": [
    "import json\n",
    "\n",
    "print(json.dumps(eo_item.to_dict(), indent=4))"
   ]
  },
  {
   "cell_type": "markdown",
   "metadata": {},
   "source": [
    "### Collections\n",
    "\n",
    "Collections are a subtype of Catalog that have some additional properties to make them more searchable. They also can define common properties so that items in the collection don't have to duplicate common data for each item. Let's create a collection to hold common properties between two images from the Spacenet 5 challenge.\n",
    "\n",
    "First we'll get another image, and it's bbox and footprint:"
   ]
  },
  {
   "cell_type": "code",
   "execution_count": null,
   "metadata": {},
   "outputs": [],
   "source": [
    "url2 = ('http://spacenet-dataset.s3.amazonaws.com/'\n",
    "       'spacenet/SN5_roads/train/AOI_7_Moscow/MS/'\n",
    "       'SN5_roads_train_AOI_7_Moscow_MS_chip997.tif')\n",
    "img_path2 = os.path.join(tmp_dir.name, 'image.tif')\n",
    "urllib.request.urlretrieve(url2, img_path2)"
   ]
  },
  {
   "cell_type": "code",
   "execution_count": null,
   "metadata": {},
   "outputs": [],
   "source": [
    "bbox2, footprint2 = get_bbox_and_footprint(img_path2)"
   ]
  },
  {
   "cell_type": "markdown",
   "metadata": {},
   "source": [
    "We can take a look at the pydocs for Collection to see what information we need to supply in order to satisfy the spec."
   ]
  },
  {
   "cell_type": "code",
   "execution_count": null,
   "metadata": {},
   "outputs": [],
   "source": [
    "print(stac.Collection.__doc__)"
   ]
  },
  {
   "cell_type": "markdown",
   "metadata": {},
   "source": [
    "Beyond what a Catalog reqiures, a Collection requires a license, and an `Extent` that describes the range of space and time that the items it hold occupy."
   ]
  },
  {
   "cell_type": "code",
   "execution_count": null,
   "metadata": {},
   "outputs": [],
   "source": [
    "print(stac.Extent.__doc__)"
   ]
  },
  {
   "cell_type": "markdown",
   "metadata": {},
   "source": [
    "An Extent is comprised of a SpatialExtent and a TemporalExtent. These hold one or more bounding boxes and time intervals, respectively, that completely  cover the items contained in the collections.\n",
    "\n",
    "Let's start with creating two new items - these will be core Items, not `EOItems`, although they will be imparted with `eo` information by the collection. This is why we add `eo` to the `stac_extensions`. We are also adding `EOAssets` to the Items, so that the assets have the proper `eo:bands` metadata associated with them:"
   ]
  },
  {
   "cell_type": "code",
   "execution_count": null,
   "metadata": {},
   "outputs": [],
   "source": [
    "collection_item1 = stac.Item(id='local-image-col-1',\n",
    "                             geometry=footprint,\n",
    "                             bbox=bbox,\n",
    "                             datetime=datetime.utcnow(),\n",
    "                             properties={},\n",
    "                             stac_extensions=['eo'])\n",
    "collection_item1.add_asset('image', stac.EOAsset(href=img_path, \n",
    "                                                 media_type=stac.MediaType.GEOTIFF, \n",
    "                                                 bands=list(range(0,8))))\n",
    "\n",
    "collection_item2 = stac.Item(id='local-image-col-2',\n",
    "                              geometry=footprint2,\n",
    "                              bbox=bbox2,\n",
    "                              datetime=datetime.utcnow(),\n",
    "                              properties={},\n",
    "                              stac_extensions=['eo'])\n",
    "collection_item2.add_asset('image', stac.EOAsset(href=img_path, \n",
    "                                                 media_type=stac.MediaType.GEOTIFF, \n",
    "                                                 bands=list(range(0,8))))"
   ]
  },
  {
   "cell_type": "markdown",
   "metadata": {},
   "source": [
    "We can use our two items' metadata to find out what the proper bounds are:"
   ]
  },
  {
   "cell_type": "code",
   "execution_count": null,
   "metadata": {},
   "outputs": [],
   "source": [
    "from shapely.geometry import shape\n",
    "\n",
    "unioned_footprint = shape(footprint).union(shape(footprint2))\n",
    "collection_bbox = list(unioned_footprint.bounds)\n",
    "spatial_extent = stac.SpatialExtent(bboxes=[collection_bbox])"
   ]
  },
  {
   "cell_type": "code",
   "execution_count": null,
   "metadata": {},
   "outputs": [],
   "source": [
    "collection_interval = sorted([collection_item1.datetime, collection_item2.datetime])\n",
    "temporal_extent = stac.TemporalExtent(intervals=[collection_interval])"
   ]
  },
  {
   "cell_type": "code",
   "execution_count": null,
   "metadata": {},
   "outputs": [],
   "source": [
    "collection_extent = stac.Extent(spatial=spatial_extent, temporal=temporal_extent)"
   ]
  },
  {
   "cell_type": "markdown",
   "metadata": {},
   "source": [
    "We can list the common properties for the items, with their proper extension names, and use it in the Collection properties:"
   ]
  },
  {
   "cell_type": "code",
   "execution_count": null,
   "metadata": {},
   "outputs": [],
   "source": [
    "common_properties = { 'eo:bands': [b.to_dict() for b in wv3_bands], \n",
    "                      'eo:gsd': 0.3,\n",
    "                      'eo:platform': 'Maxar',\n",
    "                      'eo:instrument': 'WorldView3'\n",
    "                    }"
   ]
  },
  {
   "cell_type": "code",
   "execution_count": null,
   "metadata": {},
   "outputs": [],
   "source": [
    "collection = stac.Collection(id='wv3-images',\n",
    "                             description='Spacenet 5 images over Moscow',\n",
    "                             extent=collection_extent,\n",
    "                             properties=common_properties,\n",
    "                             license='CC-BY-SA-4.0')"
   ]
  },
  {
   "cell_type": "markdown",
   "metadata": {},
   "source": [
    "Now if we add our items to our Collection, and our Collection to our Catalog, we get the following STAC that can be saved:"
   ]
  },
  {
   "cell_type": "code",
   "execution_count": null,
   "metadata": {},
   "outputs": [],
   "source": [
    "collection.add_items([collection_item1, collection_item2])"
   ]
  },
  {
   "cell_type": "code",
   "execution_count": null,
   "metadata": {},
   "outputs": [],
   "source": [
    "catalog.clear_items()\n",
    "catalog.clear_children()\n",
    "catalog.add_child(collection)"
   ]
  },
  {
   "cell_type": "code",
   "execution_count": null,
   "metadata": {},
   "outputs": [],
   "source": [
    "catalog.describe()"
   ]
  },
  {
   "cell_type": "code",
   "execution_count": null,
   "metadata": {},
   "outputs": [],
   "source": [
    "catalog.normalize_and_save(root_href=os.path.join(tmp_dir.name, 'stac-collection'), \n",
    "                           catalog_type=stac.CatalogType.SELF_CONTAINED)"
   ]
  },
  {
   "cell_type": "markdown",
   "metadata": {},
   "source": [
    "Notice our collection item does not have any of the `eo` metadata in it's properties:"
   ]
  },
  {
   "cell_type": "code",
   "execution_count": null,
   "metadata": {},
   "outputs": [],
   "source": [
    "collection_item1.to_dict()"
   ]
  },
  {
   "cell_type": "markdown",
   "metadata": {},
   "source": [
    "However, when we read the catalog in, the collection information is merged with the item metadata, and we get `EOItem`s in our STAC:"
   ]
  },
  {
   "cell_type": "code",
   "execution_count": null,
   "metadata": {},
   "outputs": [],
   "source": [
    "catalog3 = stac.Catalog.from_file(os.path.join(tmp_dir.name, 'stac-collection', 'catalog.json'))"
   ]
  },
  {
   "cell_type": "code",
   "execution_count": null,
   "metadata": {},
   "outputs": [],
   "source": [
    "catalog3.describe()"
   ]
  },
  {
   "cell_type": "code",
   "execution_count": null,
   "metadata": {},
   "outputs": [],
   "source": [
    "col_items = list(catalog3.get_all_items())"
   ]
  },
  {
   "cell_type": "code",
   "execution_count": null,
   "metadata": {},
   "outputs": [],
   "source": [
    "col_items[0].bands"
   ]
  },
  {
   "cell_type": "markdown",
   "metadata": {},
   "source": [
    "### Cleanup\n",
    "\n",
    "Don't forget to clean up the temporary directory!"
   ]
  },
  {
   "cell_type": "code",
   "execution_count": null,
   "metadata": {},
   "outputs": [],
   "source": [
    "tmp_dir.cleanup()"
   ]
  },
  {
   "cell_type": "markdown",
   "metadata": {},
   "source": [
    "## Creating a STAC of imagery from Spacenet 5 data"
   ]
  },
  {
   "cell_type": "markdown",
   "metadata": {},
   "source": [
    "Now, let's take what we've learned and create a Catalog with more data in it.\n"
   ]
  },
  {
   "cell_type": "markdown",
   "metadata": {},
   "source": [
    "### Allowing PySTAC to read from AWS S3\n",
    "\n",
    "PySTAC aims to be virtually zero-dependency (notwithstanding the why-isn't-this-in-stdlib datetime-util), so it doesn't have the ability to read from or write to anything but the local file system. However, we can hook into PySTAC's IO in the following way. Learn more about how to use STAC_IO in the [documentation on the topic](https://pystac.readthedocs.io/en/latest/concepts.html#using-stac-io):"
   ]
  },
  {
   "cell_type": "code",
   "execution_count": null,
   "metadata": {},
   "outputs": [],
   "source": [
    "from urllib.parse import urlparse\n",
    "import boto3\n",
    "from pystac import STAC_IO\n",
    "\n",
    "def my_read_method(uri):\n",
    "    parsed = urlparse(uri)\n",
    "    if parsed.scheme == 's3':\n",
    "        bucket = parsed.netloc\n",
    "        key = parsed.path[1:]\n",
    "        s3 = boto3.resource('s3')\n",
    "        obj = s3.Object(bucket, key)\n",
    "        return obj.get()['Body'].read().decode('utf-8')\n",
    "    else:\n",
    "        return STAC_IO.default_read_text_method(uri)\n",
    "\n",
    "def my_write_method(uri, txt):\n",
    "    parsed = urlparse(uri)\n",
    "    if parsed.scheme == 's3':\n",
    "        bucket = parsed.netloc\n",
    "        key = parsed.path[1:]\n",
    "        s3 = boto3.resource(\"s3\")\n",
    "        s3.Object(bucket, key).put(Body=txt)\n",
    "    else:\n",
    "        STAC_IO.default_write_text_method(uri, txt)\n",
    "\n",
    "STAC_IO.read_text_method = my_read_method\n",
    "STAC_IO.write_text_method = my_write_method"
   ]
  },
  {
   "cell_type": "markdown",
   "metadata": {},
   "source": [
    "We'll need a utility to list keys for reading the lists of files from S3:"
   ]
  },
  {
   "cell_type": "code",
   "execution_count": null,
   "metadata": {},
   "outputs": [],
   "source": [
    "# From https://alexwlchan.net/2017/07/listing-s3-keys/\n",
    "\n",
    "def get_s3_keys(bucket, prefix):\n",
    "    \"\"\"Generate all the keys in an S3 bucket.\"\"\"\n",
    "    s3 = boto3.client('s3')\n",
    "    kwargs = {'Bucket': bucket, 'Prefix': prefix}\n",
    "    while True:\n",
    "        resp = s3.list_objects_v2(**kwargs)\n",
    "        for obj in resp['Contents']:\n",
    "            yield obj['Key']\n",
    "\n",
    "        try:\n",
    "            kwargs['ContinuationToken'] = resp['NextContinuationToken']\n",
    "        except KeyError:\n",
    "            break"
   ]
  },
  {
   "cell_type": "markdown",
   "metadata": {},
   "source": [
    "Let's make a STAC of imagery over Moscow as part of the Spacenet 5 challenge. As a first step, we can list out the imagery and extract IDs from each of the chips."
   ]
  },
  {
   "cell_type": "code",
   "execution_count": null,
   "metadata": {},
   "outputs": [],
   "source": [
    "moscow_training_chip_uris = list(get_s3_keys(bucket='spacenet-dataset', \n",
    "                                             prefix='spacenet/SN5_roads/train/AOI_7_Moscow/PS-MS'))"
   ]
  },
  {
   "cell_type": "code",
   "execution_count": null,
   "metadata": {},
   "outputs": [],
   "source": [
    "import re\n",
    "\n",
    "chip_id_to_data = {}\n",
    "\n",
    "def get_chip_id(uri):\n",
    "    return re.search(r'.*\\_chip(\\d+)\\.', uri).group(1)\n",
    "\n",
    "for uri in moscow_training_chip_uris:\n",
    "    chip_id = get_chip_id(uri)\n",
    "    chip_id_to_data[chip_id] = { 'img': 's3://spacenet-dataset/{}'.format(uri) }"
   ]
  },
  {
   "cell_type": "markdown",
   "metadata": {},
   "source": [
    "For this tutorial, we'll only take a subset of the data."
   ]
  },
  {
   "cell_type": "code",
   "execution_count": null,
   "metadata": {},
   "outputs": [],
   "source": [
    "chip_id_to_data = dict(list(chip_id_to_data.items())[:10])"
   ]
  },
  {
   "cell_type": "code",
   "execution_count": null,
   "metadata": {},
   "outputs": [],
   "source": [
    "chip_id_to_data"
   ]
  },
  {
   "cell_type": "markdown",
   "metadata": {},
   "source": [
    "Let's turn each of those chips into a STAC Item that represents the image."
   ]
  },
  {
   "cell_type": "code",
   "execution_count": null,
   "metadata": {},
   "outputs": [],
   "source": [
    "chip_id_to_items = {}"
   ]
  },
  {
   "cell_type": "markdown",
   "metadata": {},
   "source": [
    "We'll create core `Item`s for our imagery, but mark them with the `eo` extension as we did above, and store the `eo` data in a `Collection`.\n",
    "\n",
    "Note that the image CRS is in WGS:84 (Lat/Lng). If it wasn't, we'd have to reproject the footprint to WGS:84 in order to be compliant with the spec (which can easily be done with [pyproj](https://github.com/pyproj4/pyproj)).\n",
    "\n",
    "Here we're taking advantage of `rasterio`'s ability to read S3 URIs, which only grabs the GeoTIFF metadata and does not pull the whole file down."
   ]
  },
  {
   "cell_type": "code",
   "execution_count": null,
   "metadata": {},
   "outputs": [],
   "source": [
    "for chip_id in chip_id_to_data:\n",
    "    img_uri = chip_id_to_data[chip_id]['img']\n",
    "    print('Processing {}'.format(img_uri))\n",
    "    bbox, footprint = get_bbox_and_footprint(img_uri)\n",
    "\n",
    "    item = stac.Item(id='img_{}'.format(chip_id), \n",
    "                     geometry=footprint,\n",
    "                     bbox=bbox,\n",
    "                     datetime=datetime.utcnow(),\n",
    "                     properties={},\n",
    "                     stac_extensions=['eo']) \n",
    "    item.add_asset(key='ps-ms', \n",
    "                   asset=stac.EOAsset(href=img_uri,\n",
    "                                      media_type=stac.MediaType.COG,\n",
    "                                      bands=list(range(0, 8))))\n",
    "    chip_id_to_items[chip_id] = item"
   ]
  },
  {
   "cell_type": "markdown",
   "metadata": {},
   "source": [
    "### Creating the Collection\n",
    "\n",
    "All of these images are over Moscow. In Spacenet 5, we have a couple cities that have imagery; a good way to separate these collections of imagery. We can store all of the common `eo` metadata in the collection."
   ]
  },
  {
   "cell_type": "code",
   "execution_count": null,
   "metadata": {},
   "outputs": [],
   "source": [
    "from shapely.geometry import (shape, MultiPolygon)\n",
    "\n",
    "footprints = list(map(lambda i: shape(i.geometry).envelope, \n",
    "                      chip_id_to_items.values()))\n",
    "collection_bbox = MultiPolygon(footprints).bounds\n",
    "spatial_extent = stac.SpatialExtent(bboxes=[collection_bbox])"
   ]
  },
  {
   "cell_type": "code",
   "execution_count": null,
   "metadata": {},
   "outputs": [],
   "source": [
    "datetimes = sorted(list(map(lambda i: i.datetime,\n",
    "                            chip_id_to_items.values())))\n",
    "temporal_extent = stac.TemporalExtent(intervals=[[datetimes[0], datetimes[-1]]])"
   ]
  },
  {
   "cell_type": "code",
   "execution_count": null,
   "metadata": {},
   "outputs": [],
   "source": [
    "collection_extent = stac.Extent(spatial=spatial_extent, temporal=temporal_extent)"
   ]
  },
  {
   "cell_type": "code",
   "execution_count": null,
   "metadata": {},
   "outputs": [],
   "source": [
    "common_properties = { 'eo:bands': [b.to_dict() for b in wv3_bands], \n",
    "                      'eo:gsd': 0.3,\n",
    "                      'eo:platform': 'Maxar',\n",
    "                      'eo:instrument': 'WorldView3'\n",
    "                    }"
   ]
  },
  {
   "cell_type": "code",
   "execution_count": null,
   "metadata": {},
   "outputs": [],
   "source": [
    "collection = stac.Collection(id='wv3-images',\n",
    "                             description='Spacenet 5 images over Moscow',\n",
    "                             extent=collection_extent,\n",
    "                             properties=common_properties,\n",
    "                             license='CC-BY-SA-4.0')"
   ]
  },
  {
   "cell_type": "code",
   "execution_count": null,
   "metadata": {},
   "outputs": [],
   "source": [
    "collection.add_items(chip_id_to_items.values())"
   ]
  },
  {
   "cell_type": "code",
   "execution_count": null,
   "metadata": {},
   "outputs": [],
   "source": [
    "collection.describe()"
   ]
  },
  {
   "cell_type": "markdown",
   "metadata": {},
   "source": [
    "Now, we can create a Catalog and add the collection."
   ]
  },
  {
   "cell_type": "code",
   "execution_count": null,
   "metadata": {},
   "outputs": [],
   "source": [
    "catalog = stac.Catalog(id='spacenet5', description='Spacenet 5 Data (Test)')\n",
    "catalog.add_child(collection)"
   ]
  },
  {
   "cell_type": "code",
   "execution_count": null,
   "metadata": {},
   "outputs": [],
   "source": [
    "catalog.describe()"
   ]
  },
  {
   "cell_type": "markdown",
   "metadata": {},
   "source": [
    "## Adding label items to the Spacenet 5 catalog\n",
    "\n",
    "We can use the [label extension](https://github.com/radiantearth/stac-spec/tree/v0.8.1/extensions/label) of the STAC spec to represent the training data in our STAC. For this, we need to grab the URIs of the GeoJSON of roads:"
   ]
  },
  {
   "cell_type": "code",
   "execution_count": null,
   "metadata": {},
   "outputs": [],
   "source": [
    "moscow_training_geojson_uris = list(get_s3_keys(bucket='spacenet-dataset',\n",
    "                                               prefix='spacenet/SN5_roads/train/AOI_7_Moscow/geojson_roads_speed/'))"
   ]
  },
  {
   "cell_type": "code",
   "execution_count": null,
   "metadata": {},
   "outputs": [],
   "source": [
    "for uri in moscow_training_geojson_uris:\n",
    "    chip_id = get_chip_id(uri)\n",
    "    if chip_id in chip_id_to_data:\n",
    "        chip_id_to_data[chip_id]['label'] = 's3://spacenet-dataset/{}'.format(uri)"
   ]
  },
  {
   "cell_type": "markdown",
   "metadata": {},
   "source": [
    "We'll add the LabelItems to their own subcatalog; since they don't inherit the Collection's `eo` properties, they shouldn't go in the Collection."
   ]
  },
  {
   "cell_type": "code",
   "execution_count": null,
   "metadata": {},
   "outputs": [],
   "source": [
    "label_catalog = stac.Catalog(id='spacenet-data-labels', description='Labels for Spacenet 5')\n",
    "catalog.add_child(label_catalog)"
   ]
  },
  {
   "cell_type": "markdown",
   "metadata": {},
   "source": [
    "We can check the pydocs to see what a LabelItem needs in order to fit the spec:"
   ]
  },
  {
   "cell_type": "code",
   "execution_count": null,
   "metadata": {},
   "outputs": [],
   "source": [
    "print(stac.LabelItem.__doc__)"
   ]
  },
  {
   "cell_type": "markdown",
   "metadata": {},
   "source": [
    "This loop creates our LabelItems and associates each to the appropriate source image Item."
   ]
  },
  {
   "cell_type": "code",
   "execution_count": null,
   "metadata": {},
   "outputs": [],
   "source": [
    "for chip_id in chip_id_to_data:\n",
    "    img_item = collection.get_item('img_{}'.format(chip_id))\n",
    "    label_uri = chip_id_to_data[chip_id]['label']\n",
    "    \n",
    "    label_item = stac.LabelItem(id='label_{}'.format(chip_id),\n",
    "                                geometry=img_item.geometry,\n",
    "                                bbox=img_item.bbox,\n",
    "                                datetime=datetime.utcnow(),\n",
    "                                properties={},\n",
    "                                label_description=\"SpaceNet 5 Road labels\",\n",
    "                                label_type=stac.LabelType.VECTOR,\n",
    "                                label_tasks=['segmentation', 'regression'])\n",
    "    label_item.add_source(img_item)\n",
    "    label_item.add_geojson_labels(label_uri)\n",
    "    \n",
    "    label_catalog.add_item(label_item)"
   ]
  },
  {
   "cell_type": "markdown",
   "metadata": {},
   "source": [
    "Now we have a STAC of training data!"
   ]
  },
  {
   "cell_type": "code",
   "execution_count": null,
   "metadata": {},
   "outputs": [],
   "source": [
    "catalog.describe()"
   ]
  },
  {
   "cell_type": "code",
   "execution_count": null,
   "metadata": {},
   "outputs": [],
   "source": [
    "label_item = catalog.get_child('spacenet-data-labels').get_item('label_1')\n",
    "label_item.to_dict()"
   ]
  }
 ],
 "metadata": {
  "kernelspec": {
   "display_name": "Python 3",
   "language": "python",
   "name": "python3"
  },
  "language_info": {
   "codemirror_mode": {
    "name": "ipython",
    "version": 3
   },
   "file_extension": ".py",
   "mimetype": "text/x-python",
   "name": "python",
   "nbconvert_exporter": "python",
   "pygments_lexer": "ipython3",
   "version": "3.6.9"
  }
 },
 "nbformat": 4,
 "nbformat_minor": 2
}
